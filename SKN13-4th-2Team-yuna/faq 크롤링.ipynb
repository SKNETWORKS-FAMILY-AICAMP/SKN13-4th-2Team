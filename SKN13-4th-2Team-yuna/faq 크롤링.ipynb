{
 "cells": [
  {
   "cell_type": "code",
   "execution_count": null,
   "id": "5a814419",
   "metadata": {},
   "outputs": [
    {
     "name": "stdout",
     "output_type": "stream",
     "text": [
      "FAQ 데이터가 CSV 파일로 저장되었습니다.\n"
     ]
    }
   ],
   "source": [
    "from selenium import webdriver\n",
    "from selenium.webdriver.common.by import By\n",
    "from selenium.webdriver.chrome.service import Service\n",
    "from selenium.webdriver.support.ui import WebDriverWait\n",
    "from selenium.webdriver.support import expected_conditions as EC\n",
    "from webdriver_manager.chrome import ChromeDriverManager\n",
    "import time\n",
    "import csv\n",
    "\n",
    "# Selenium WebDriver 설정\n",
    "options = webdriver.ChromeOptions()\n",
    "options.add_argument(\"--headless\")  # 브라우저 UI를 보지 않고 실행 (필요하면 제거)\n",
    "options.add_argument(\"--no-sandbox\")\n",
    "options.add_argument(\"--disable-dev-shm-usage\")\n",
    "\n",
    "# ChromeDriver 자동 설치 및 실행\n",
    "driver = webdriver.Chrome(service=Service(ChromeDriverManager().install()), options=options)\n",
    "\n",
    "# 크롤링할 URL\n",
    "url = \"https://m.soribada.com/faq\"\n",
    "\n",
    "# 페이지 요청\n",
    "driver.get(url)\n",
    "\n",
    "# 페이지가 완전히 로드될 때까지 대기\n",
    "try:\n",
    "    # 10초간 기다리며 'question floatLeft'와 'answer floatLeft' 클래스가 로드되기를 기다림\n",
    "    WebDriverWait(driver, 10).until(EC.presence_of_all_elements_located((By.XPATH, '//div[@class=\"question floatLeft\"]')))\n",
    "except Exception as e:\n",
    "    print(\"페이지 로딩에 실패했습니다:\", e)\n",
    "\n",
    "# 모든 질문과 답변 요소 찾기\n",
    "questions = driver.find_elements(By.XPATH, '//div[@class=\"question floatLeft\"]')\n",
    "answers = driver.find_elements(By.XPATH, '//div[@class=\"answer floatLeft\"]')\n",
    "\n",
    "# CSV 파일로 저장\n",
    "with open('faq.csv', mode='w', newline='', encoding='utf-8') as file:\n",
    "    writer = csv.writer(file)\n",
    "    writer.writerow(['Question', 'Answer'])  # CSV 헤더\n",
    "\n",
    "    # 각 질문과 답변을 순차적으로 추출하여 CSV에 기록\n",
    "    for question, answer in zip(questions, answers):\n",
    "        question_text = question.text.strip()\n",
    "\n",
    "        # 'innerHTML'을 사용하여 HTML 태그가 포함된 답변을 가져오기\n",
    "        answer_text = answer.get_attribute('innerHTML').strip()\n",
    "\n",
    "        # HTML 태그 제거 (원하는 경우)\n",
    "        from bs4 import BeautifulSoup\n",
    "        answer_text_cleaned = BeautifulSoup(answer_text, \"html.parser\").get_text(separator=\" \").strip()\n",
    "\n",
    "        # CSV에 기록\n",
    "        writer.writerow([question_text, answer_text_cleaned])\n",
    "\n",
    "# 드라이버 종료\n",
    "driver.quit()\n",
    "\n",
    "print(\"FAQ 데이터가 CSV 파일로 저장되었습니다.\")\n"
   ]
  },
  {
   "cell_type": "code",
   "execution_count": null,
   "id": "0ab240eb",
   "metadata": {},
   "outputs": [],
   "source": []
  }
 ],
 "metadata": {
  "kernelspec": {
   "display_name": "Python 3 (ipykernel)",
   "language": "python",
   "name": "python3"
  },
  "language_info": {
   "codemirror_mode": {
    "name": "ipython",
    "version": 3
   },
   "file_extension": ".py",
   "mimetype": "text/x-python",
   "name": "python",
   "nbconvert_exporter": "python",
   "pygments_lexer": "ipython3",
   "version": "3.12.3"
  }
 },
 "nbformat": 4,
 "nbformat_minor": 5
}
